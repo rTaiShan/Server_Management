{
 "cells": [
  {
   "cell_type": "code",
   "execution_count": 9,
   "metadata": {},
   "outputs": [],
   "source": [
    "from window_runner.terminalrepository import TerminalRepository"
   ]
  },
  {
   "cell_type": "code",
   "execution_count": 10,
   "metadata": {},
   "outputs": [],
   "source": [
    "terminals = TerminalRepository()"
   ]
  },
  {
   "cell_type": "code",
   "execution_count": 13,
   "metadata": {},
   "outputs": [],
   "source": [
    "new_window_0 = terminals.create_window(attach=True)\n",
    "# terminals.select_window(new_window_0)\n",
    "new_window_0.send_keys(\"echo Hello world\")\n",
    "\n",
    "new_window_1 = terminals.create_window(attach=True)\n",
    "new_window_1.send_keys(\"echo Wazzup\")"
   ]
  },
  {
   "cell_type": "code",
   "execution_count": 14,
   "metadata": {},
   "outputs": [
    {
     "name": "stdout",
     "output_type": "stream",
     "text": [
      "1:\n",
      "echo Hello world\n",
      "rtai@toasty:~/Documents/Programming/Server_Management$ echo Hello world\n",
      "Hello world\n",
      "rtai@toasty:~/Documents/Programming/Server_Management$\n",
      "2:\n",
      "rtai@toasty:~/Documents/Programming/Server_Management$ echo Wazzup\n",
      "Wazzup\n",
      "rtai@toasty:~/Documents/Programming/Server_Management$\n",
      "3:\n",
      "echo Hello worldrtai@toasty:~/Documents/Programming/Server_Management$ echo Hello world\n",
      "Hello world\n",
      "rtai@toasty:~/Documents/Programming/Server_Management$\n",
      "4:\n",
      "rtai@toasty:~/Documents/Programming/Server_Management$ echo Wazzup\n",
      "Wazzup\n",
      "rtai@toasty:~/Documents/Programming/Server_Management$\n"
     ]
    }
   ],
   "source": [
    "import time\n",
    "\n",
    "time.sleep(0.5)\n",
    "for window in terminals.windows:\n",
    "    print(f\"{window.tmux_window.index}:\")\n",
    "    print(\"\\n\".join(window.read_stdout(from_start=True)))"
   ]
  },
  {
   "cell_type": "code",
   "execution_count": null,
   "metadata": {},
   "outputs": [],
   "source": []
  }
 ],
 "metadata": {
  "kernelspec": {
   "display_name": "venv",
   "language": "python",
   "name": "python3"
  },
  "language_info": {
   "codemirror_mode": {
    "name": "ipython",
    "version": 3
   },
   "file_extension": ".py",
   "mimetype": "text/x-python",
   "name": "python",
   "nbconvert_exporter": "python",
   "pygments_lexer": "ipython3",
   "version": "3.10.12"
  }
 },
 "nbformat": 4,
 "nbformat_minor": 2
}
