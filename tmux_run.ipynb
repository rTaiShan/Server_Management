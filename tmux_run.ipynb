{
 "cells": [
  {
   "cell_type": "code",
   "execution_count": 1,
   "metadata": {},
   "outputs": [],
   "source": [
    "from window_runner.terminalrepository import TerminalRepository"
   ]
  },
  {
   "cell_type": "code",
   "execution_count": 2,
   "metadata": {},
   "outputs": [],
   "source": [
    "terminals = TerminalRepository()"
   ]
  },
  {
   "cell_type": "code",
   "execution_count": 3,
   "metadata": {},
   "outputs": [],
   "source": [
    "for i in range(10):\n",
    "    new_window = terminals.create_window(attach=True)\n",
    "    # terminals.select_window(new_window)\n",
    "    new_window.send_keys(f\"echo {i**2}\")"
   ]
  },
  {
   "cell_type": "code",
   "execution_count": 4,
   "metadata": {},
   "outputs": [
    {
     "name": "stdout",
     "output_type": "stream",
     "text": [
      "1:\n",
      "rtai@toasty:~/Documents/Programming/Server_Management$ echo 0\n",
      "0\n",
      "rtai@toasty:~/Documents/Programming/Server_Management$\n",
      "2:\n",
      "echo 1rtai@toasty:~/Documents/Programming/Server_Management$ echo 1\n",
      "1\n",
      "rtai@toasty:~/Documents/Programming/Server_Management$\n",
      "3:\n",
      "echo 4rtai@toasty:~/Documents/Programming/Server_Management$ echo 4\n",
      "4\n",
      "rtai@toasty:~/Documents/Programming/Server_Management$\n",
      "4:\n",
      "echo 9rtai@toasty:~/Documents/Programming/Server_Management$ echo 9\n",
      "9\n",
      "rtai@toasty:~/Documents/Programming/Server_Management$\n",
      "5:\n",
      "echo 16rtai@toasty:~/Documents/Programming/Server_Management$ echo 16\n",
      "16\n",
      "rtai@toasty:~/Documents/Programming/Server_Management$\n",
      "6:\n",
      "rtai@toasty:~/Documents/Programming/Server_Management$ echo 25\n",
      "25\n",
      "rtai@toasty:~/Documents/Programming/Server_Management$\n",
      "7:\n",
      "rtai@toasty:~/Documents/Programming/Server_Management$ echo 36\n",
      "36\n",
      "rtai@toasty:~/Documents/Programming/Server_Management$\n",
      "8:\n",
      "rtai@toasty:~/Documents/Programming/Server_Management$ echo 49\n",
      "49\n",
      "rtai@toasty:~/Documents/Programming/Server_Management$\n",
      "9:\n",
      "rtai@toasty:~/Documents/Programming/Server_Management$ echo 64\n",
      "64\n",
      "rtai@toasty:~/Documents/Programming/Server_Management$\n",
      "10:\n",
      "rtai@toasty:~/Documents/Programming/Server_Management$ echo 81\n",
      "81\n",
      "rtai@toasty:~/Documents/Programming/Server_Management$\n"
     ]
    }
   ],
   "source": [
    "import time\n",
    "\n",
    "time.sleep(0.5)\n",
    "for window in terminals.windows:\n",
    "    print(f\"{window.tmux_window.index}:\")\n",
    "    print(\"\\n\".join(window.read_stdout(from_start=True)))"
   ]
  },
  {
   "cell_type": "code",
   "execution_count": 5,
   "metadata": {},
   "outputs": [],
   "source": [
    "import libtmux\n",
    "server = libtmux.Server()"
   ]
  },
  {
   "cell_type": "code",
   "execution_count": null,
   "metadata": {},
   "outputs": [],
   "source": []
  }
 ],
 "metadata": {
  "kernelspec": {
   "display_name": "venv",
   "language": "python",
   "name": "python3"
  },
  "language_info": {
   "codemirror_mode": {
    "name": "ipython",
    "version": 3
   },
   "file_extension": ".py",
   "mimetype": "text/x-python",
   "name": "python",
   "nbconvert_exporter": "python",
   "pygments_lexer": "ipython3",
   "version": "3.10.12"
  }
 },
 "nbformat": 4,
 "nbformat_minor": 2
}
